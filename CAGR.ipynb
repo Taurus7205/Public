{
 "cells": [
  {
   "cell_type": "code",
   "execution_count": 2,
   "metadata": {},
   "outputs": [
    {
     "name": "stdout",
     "output_type": "stream",
     "text": [
      "CAGR = 14.869835499703509%\n"
     ]
    }
   ],
   "source": [
    "def CAGR(endval,startval,periods):\n",
    "    return (( endval / startval )**(1 / periods )-1)*100\n",
    "\n",
    "print(\"CAGR = \" +str (CAGR(200,100,5))+ \"%\")\n",
    "\n"
   ]
  },
  {
   "cell_type": "code",
   "execution_count": 3,
   "metadata": {},
   "outputs": [
    {
     "name": "stdout",
     "output_type": "stream",
     "text": [
      "19.623119885131544\n",
      "17.461894308801895\n",
      "15.792974364097635\n",
      "13.744603485364815\n",
      "14.215130617291273\n"
     ]
    }
   ],
   "source": [
    "y = 24\n",
    "x = 4\n",
    "z = 10\n",
    "\n",
    "print(CAGR(y,x,z))\n",
    "print(CAGR(y+1,x+1,z))\n",
    "print(CAGR(y+2,x+2,z))\n",
    "print(CAGR(y+5,x+4,z))\n",
    "print(CAGR(y+10,x+5,z))"
   ]
  },
  {
   "cell_type": "code",
   "execution_count": null,
   "metadata": {},
   "outputs": [],
   "source": []
  }
 ],
 "metadata": {
  "kernelspec": {
   "display_name": "Python 3",
   "language": "python",
   "name": "python3"
  },
  "language_info": {
   "codemirror_mode": {
    "name": "ipython",
    "version": 3
   },
   "file_extension": ".py",
   "mimetype": "text/x-python",
   "name": "python",
   "nbconvert_exporter": "python",
   "pygments_lexer": "ipython3",
   "version": "3.7.3"
  }
 },
 "nbformat": 4,
 "nbformat_minor": 2
}
